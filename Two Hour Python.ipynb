{
 "cells": [
  {
   "cell_type": "markdown",
   "metadata": {
    "slideshow": {
     "slide_type": "slide"
    }
   },
   "source": [
    "# Introduction to Python"
   ]
  },
  {
   "cell_type": "markdown",
   "metadata": {
    "slideshow": {
     "slide_type": "slide"
    }
   },
   "source": [
    "# What is Python?"
   ]
  },
  {
   "cell_type": "markdown",
   "metadata": {
    "slideshow": {
     "slide_type": "subslide"
    }
   },
   "source": [
    "# A command interpreter"
   ]
  },
  {
   "cell_type": "code",
   "execution_count": null,
   "metadata": {},
   "outputs": [],
   "source": [
    "print('Hello, world!')"
   ]
  },
  {
   "cell_type": "markdown",
   "metadata": {
    "collapsed": true,
    "slideshow": {
     "slide_type": "subslide"
    }
   },
   "source": [
    "# A scripting language\n",
    "1. automate repeated tasks\n",
    "2. problem solving/computation\n",
    "3. one-offs (data conversion, moving/renaming files, etc.)"
   ]
  },
  {
   "cell_type": "markdown",
   "metadata": {
    "slideshow": {
     "slide_type": "subslide"
    }
   },
   "source": [
    "# An object-oriented programming language\n",
    "* created by Guido van Rossum\n",
    "* first released in 1991\n",
    "* named after Monty Python\n",
    "* \"batteries included\"\n",
    "* large community of users\n",
    "* Dropbox, Quora, YouTube, Instagram all writen in Python"
   ]
  },
  {
   "cell_type": "markdown",
   "metadata": {
    "slideshow": {
     "slide_type": "subslide"
    }
   },
   "source": [
    "# Currently the third most popular programming language, according to TIOBE"
   ]
  },
  {
   "cell_type": "markdown",
   "metadata": {
    "slideshow": {
     "slide_type": "subslide"
    }
   },
   "source": [
    "* \"The <a href=\"https://www.tiobe.com/tiobe-index/\">TIOBE Programming Community</a> index is an indicator of the popularity of programming languages. The index is updated once a month. The ratings are based on the number of skilled engineers world-wide, courses and third party vendors.\"\n",
    "![TIOBE index](TIOBE-Aug2020.png)"
   ]
  },
  {
   "cell_type": "markdown",
   "metadata": {
    "slideshow": {
     "slide_type": "subslide"
    }
   },
   "source": [
    "# Most popular programming language, according to <a href=\"https://spectrum.ieee.org/computing/software/the-top-programming-languages-2019\">IEEE</a>\n",
    "![IEEE](IEEEx.png)"
   ]
  },
  {
   "cell_type": "markdown",
   "metadata": {},
   "source": [
    "# Python Variables"
   ]
  },
  {
   "cell_type": "code",
   "execution_count": 53,
   "metadata": {
    "slideshow": {
     "slide_type": "subslide"
    }
   },
   "outputs": [
    {
     "output_type": "execute_result",
     "data": {
      "text/plain": "(2020, int)"
     },
     "metadata": {},
     "execution_count": 53
    }
   ],
   "source": [
    "year = 2020\n",
    "year, type(year)"
   ]
  },
  {
   "cell_type": "code",
   "execution_count": 54,
   "metadata": {},
   "outputs": [
    {
     "output_type": "execute_result",
     "data": {
      "text/plain": "('Python', str)"
     },
     "metadata": {},
     "execution_count": 54
    }
   ],
   "source": [
    "# an example of dynamic typing\n",
    "lang = 'Python'\n",
    "lang, type(lang)"
   ]
  },
  {
   "cell_type": "markdown",
   "metadata": {
    "tags": []
   },
   "source": [
    "# Rabbit hole: Type hinting\n",
    "* dynamic typing is handy, and also a source of _grief_\n",
    "* Python 3.6 added the ability to inject type hints into your code\n",
    "* Python doesn't care about typing, but you can run a static type checker (e.g., __`mypy`__) over your code to find typing errors\n",
    "* you don't need to use it, but for a large project it's a way to avoid type error deep in your codebase"
   ]
  },
  {
   "cell_type": "code",
   "execution_count": 57,
   "metadata": {},
   "outputs": [],
   "source": [
    "%load hint.py"
   ]
  },
  {
   "cell_type": "markdown",
   "metadata": {
    "slideshow": {
     "slide_type": "slide"
    }
   },
   "source": [
    "# Printing in Python\n",
    "* __`print()`__ is a builtin function (it used to be a statement in Python 2)\n",
    "* __`end=`__ and __`sep=`__ _keyword arguments_ give us control over printing"
   ]
  },
  {
   "cell_type": "code",
   "execution_count": null,
   "metadata": {
    "slideshow": {
     "slide_type": "subslide"
    }
   },
   "outputs": [],
   "source": [
    "print('Hello', 'world!', 'and', 'this', sep='...')"
   ]
  },
  {
   "cell_type": "code",
   "execution_count": null,
   "metadata": {},
   "outputs": [],
   "source": [
    "print(1, 2, 3, 4, end=' ')\n",
    "print(5, 6, 7, sep='/')"
   ]
  },
  {
   "cell_type": "markdown",
   "metadata": {
    "slideshow": {
     "slide_type": "slide"
    }
   },
   "source": [
    "# Strings\n",
    "* single or double quotes\n",
    "* immutable"
   ]
  },
  {
   "cell_type": "code",
   "execution_count": 3,
   "metadata": {},
   "outputs": [
    {
     "output_type": "execute_result",
     "data": {
      "text/plain": "\"Embedded apostrophes aren't a problem\""
     },
     "metadata": {},
     "execution_count": 3
    }
   ],
   "source": [
    "s = \"Embedded apostrophes aren't a problem\"\n",
    "s"
   ]
  },
  {
   "cell_type": "code",
   "execution_count": 4,
   "metadata": {},
   "outputs": [
    {
     "output_type": "execute_result",
     "data": {
      "text/plain": "'This is \"cool\"'"
     },
     "metadata": {},
     "execution_count": 4
    }
   ],
   "source": [
    "s = 'This is \"cool\"'\n",
    "s"
   ]
  },
  {
   "cell_type": "markdown",
   "metadata": {
    "slideshow": {
     "slide_type": "subslide"
    }
   },
   "source": [
    "# More strings...\n",
    "* __`+`__ = concatenation\n",
    "* __`*`__ = duplication\n",
    "* __`'''`__ enable easy multi-line strings"
   ]
  },
  {
   "cell_type": "code",
   "execution_count": null,
   "metadata": {},
   "outputs": [],
   "source": [
    "s, t = 'hello', 'bye'"
   ]
  },
  {
   "cell_type": "code",
   "execution_count": null,
   "metadata": {},
   "outputs": [],
   "source": [
    "print(s + t)"
   ]
  },
  {
   "cell_type": "code",
   "execution_count": null,
   "metadata": {
    "slideshow": {
     "slide_type": "subslide"
    }
   },
   "outputs": [],
   "source": [
    "print(t * 20)\n",
    "print('-' * 60)"
   ]
  },
  {
   "cell_type": "code",
   "execution_count": 5,
   "metadata": {},
   "outputs": [
    {
     "output_type": "execute_result",
     "data": {
      "text/plain": "'this\\nis a multi-line\\nstring'"
     },
     "metadata": {},
     "execution_count": 5
    }
   ],
   "source": [
    "s = '''this\n",
    "is a multi-line\n",
    "string'''\n",
    "s"
   ]
  },
  {
   "cell_type": "code",
   "execution_count": null,
   "metadata": {},
   "outputs": [],
   "source": [
    "print(s)"
   ]
  },
  {
   "cell_type": "markdown",
   "metadata": {
    "slideshow": {
     "slide_type": "slide"
    }
   },
   "source": [
    "# Indexing strings\n",
    "* access a single character by its offset\n",
    "* negative offsets from end of string, moving backwards"
   ]
  },
  {
   "cell_type": "code",
   "execution_count": null,
   "metadata": {},
   "outputs": [],
   "source": [
    "alphabet = 'abcdefghijklmnopqrstuvwxyz'"
   ]
  },
  {
   "cell_type": "code",
   "execution_count": null,
   "metadata": {},
   "outputs": [],
   "source": [
    "alphabet[0]"
   ]
  },
  {
   "cell_type": "code",
   "execution_count": null,
   "metadata": {
    "slideshow": {
     "slide_type": "subslide"
    }
   },
   "outputs": [],
   "source": [
    "alphabet[-1] # Python idiom"
   ]
  },
  {
   "cell_type": "code",
   "execution_count": null,
   "metadata": {},
   "outputs": [],
   "source": [
    "alphabet[-3]"
   ]
  },
  {
   "cell_type": "markdown",
   "metadata": {
    "slideshow": {
     "slide_type": "slide"
    }
   },
   "source": [
    "# Indentation\n",
    "* In Python, colons and indentation delineate blocks\n",
    "* ...no braces!"
   ]
  },
  {
   "cell_type": "code",
   "execution_count": 10,
   "metadata": {
    "tags": []
   },
   "outputs": [
    {
     "output_type": "stream",
     "name": "stdout",
     "text": "x is something other than 1\n"
    }
   ],
   "source": [
    "x = 5\n",
    "\n",
    "if x == 1:\n",
    "    print('x is 1')\n",
    "    print('I said, X IS 1!')\n",
    "else:\n",
    "    print('x is something other than 1')"
   ]
  },
  {
   "cell_type": "markdown",
   "metadata": {
    "slideshow": {
     "slide_type": "slide"
    }
   },
   "source": [
    "# `if` statements\n",
    "* Similar to other languages\n",
    "* No parens needed around condition being tested\n",
    "* __`elif`__ = else if"
   ]
  },
  {
   "cell_type": "code",
   "execution_count": null,
   "metadata": {},
   "outputs": [],
   "source": [
    "my_number = 37\n",
    "guess = int(input('Enter your guess: '))\n",
    "\n",
    "if guess > my_number:\n",
    "    print('Guess was too high')\n",
    "elif guess < my_number:\n",
    "    print('Guess was too low')\n",
    "else:\n",
    "    print('You got it!')"
   ]
  },
  {
   "cell_type": "markdown",
   "metadata": {
    "slideshow": {
     "slide_type": "slide"
    }
   },
   "source": [
    "# Looping\n",
    "* __`while`__ and __`for`__, as we're used to in other languages\n",
    "* __`break`__ and __`continue`__\n",
    "* optional __`else`__ clause, (which is arguably poorly named)\n",
    " * code in the __`else`__ clause is executed only if loop terminates normally, (i.e., no __`break`__)"
   ]
  },
  {
   "cell_type": "markdown",
   "metadata": {
    "slideshow": {
     "slide_type": "subslide"
    }
   },
   "source": [
    "# while loop: Guess a number"
   ]
  },
  {
   "cell_type": "code",
   "execution_count": 13,
   "metadata": {
    "slideshow": {
     "slide_type": "-"
    },
    "tags": []
   },
   "outputs": [
    {
     "output_type": "stream",
     "name": "stdout",
     "text": "50 was too high\n25 was too high\n12 was too high\n6 was too low\n9 was too high\nCongratulations. You guessed it!\n"
    }
   ],
   "source": [
    "import random\n",
    "my_number = random.randint(1, 100)\n",
    "guess = 0\n",
    "\n",
    "while guess != my_number: \n",
    "    guess = int(input(\"Your guess (0 to give up)? \"))\n",
    "    if guess == 0:\n",
    "        print(\"Sorry that you're giving up!\")\n",
    "        break\n",
    "    elif guess > my_number:\n",
    "        print(guess, \"is too high\")\n",
    "    elif guess < my_number:\n",
    "        print(guess, \"is too low\")\n",
    "else: # this code will be executed only if no break\n",
    "    print(\"Congratulations. You guessed it!\")"
   ]
  },
  {
   "cell_type": "code",
   "execution_count": null,
   "metadata": {},
   "outputs": [],
   "source": []
  },
  {
   "cell_type": "markdown",
   "metadata": {
    "slideshow": {
     "slide_type": "subslide"
    }
   },
   "source": [
    "# `for` loops\n",
    "* typically used to cycle or iterate through an _iterable_ (or container), one element at a time\n",
    "* \"for thing in container\""
   ]
  },
  {
   "cell_type": "code",
   "execution_count": 14,
   "metadata": {
    "tags": []
   },
   "outputs": [
    {
     "output_type": "stream",
     "name": "stdout",
     "text": "P\ny\nt\nh\no\nn\n"
    }
   ],
   "source": [
    "for letter in 'Python': # no indexing, no counting, no incrementing\n",
    "    print(letter)"
   ]
  },
  {
   "cell_type": "markdown",
   "metadata": {
    "slideshow": {
     "slide_type": "subslide"
    }
   },
   "source": [
    "# A \"more traditional\" for loop"
   ]
  },
  {
   "cell_type": "code",
   "execution_count": 15,
   "metadata": {
    "tags": []
   },
   "outputs": [
    {
     "output_type": "stream",
     "name": "stdout",
     "text": "1\n2\n3\n4\n5\n"
    }
   ],
   "source": [
    "for num in range(1, 6): # \"num\" is a name we pick\n",
    "    print(num)"
   ]
  },
  {
   "cell_type": "markdown",
   "metadata": {
    "slideshow": {
     "slide_type": "subslide"
    }
   },
   "source": [
    "# Rabbit Hole: Why does __`range(x, y)`__ mean `x <= i < y`?\n",
    "* https://www.cs.utexas.edu/users/EWD/transcriptions/EWD08xx/EWD831.html"
   ]
  },
  {
   "cell_type": "markdown",
   "metadata": {
    "slideshow": {
     "slide_type": "subslide"
    }
   },
   "source": [
    "# __`range()`__ takes an optional third argument, the step"
   ]
  },
  {
   "cell_type": "code",
   "execution_count": null,
   "metadata": {
    "slideshow": {
     "slide_type": "-"
    }
   },
   "outputs": [],
   "source": [
    "for num in range(2, 100):\n",
    "    print(num, end=' ')"
   ]
  },
  {
   "cell_type": "markdown",
   "metadata": {
    "slideshow": {
     "slide_type": "slide"
    }
   },
   "source": [
    "# Slicing `[start:end:step]`\n",
    "* substring from __`start`__ to __`end`__ (not inclusive), skipping __`step`__ characters at a time"
   ]
  },
  {
   "cell_type": "code",
   "execution_count": null,
   "metadata": {},
   "outputs": [],
   "source": [
    "alphabet[10:15]"
   ]
  },
  {
   "cell_type": "code",
   "execution_count": null,
   "metadata": {},
   "outputs": [],
   "source": [
    "alphabet[23:]"
   ]
  },
  {
   "cell_type": "code",
   "execution_count": null,
   "metadata": {},
   "outputs": [],
   "source": [
    "alphabet[:5]"
   ]
  },
  {
   "cell_type": "code",
   "execution_count": null,
   "metadata": {
    "slideshow": {
     "slide_type": "subslide"
    }
   },
   "outputs": [],
   "source": [
    "alphabet[5:23:2]"
   ]
  },
  {
   "cell_type": "code",
   "execution_count": null,
   "metadata": {},
   "outputs": [],
   "source": [
    "alphabet[-3:], alphabet[23:]"
   ]
  },
  {
   "cell_type": "code",
   "execution_count": null,
   "metadata": {},
   "outputs": [],
   "source": [
    "alphabet[::-1] # Python(ic) idiom for reversing a container"
   ]
  },
  {
   "cell_type": "markdown",
   "metadata": {
    "slideshow": {
     "slide_type": "slide"
    }
   },
   "source": [
    "# Lists\n",
    "* denoted by __`[ ]`__\n",
    "* typically homogeneous, but can contain mixed types\n",
    "* duplicates OK\n",
    "* __`list()`__ creates a list from a sequence (\"listification\")"
   ]
  },
  {
   "cell_type": "code",
   "execution_count": 16,
   "metadata": {},
   "outputs": [
    {
     "output_type": "execute_result",
     "data": {
      "text/plain": "[1, 3, 5, -3, -4.2]"
     },
     "metadata": {},
     "execution_count": 16
    }
   ],
   "source": [
    "nums = [1, 3, 5, -3, -4.2]\n",
    "nums"
   ]
  },
  {
   "cell_type": "code",
   "execution_count": 17,
   "metadata": {},
   "outputs": [
    {
     "output_type": "execute_result",
     "data": {
      "text/plain": "['Mon', 'Tue', 'Wed', 'Thu', 'Fri', 'Sat', 'Sun']"
     },
     "metadata": {},
     "execution_count": 17
    }
   ],
   "source": [
    "days = ['Mon', 'Tue', 'Wed', 'Thu', 'Fri', 'Sat', 'Sun']\n",
    "days"
   ]
  },
  {
   "cell_type": "code",
   "execution_count": 18,
   "metadata": {},
   "outputs": [
    {
     "output_type": "execute_result",
     "data": {
      "text/plain": "['P', 'y', 't', 'h', 'o', 'n']"
     },
     "metadata": {},
     "execution_count": 18
    }
   ],
   "source": [
    "list('Python')"
   ]
  },
  {
   "cell_type": "code",
   "execution_count": 21,
   "metadata": {
    "slideshow": {
     "slide_type": "subslide"
    }
   },
   "outputs": [],
   "source": [
    "languages = ['Golang', 'Python', 'C', 'Rust']"
   ]
  },
  {
   "cell_type": "code",
   "execution_count": 22,
   "metadata": {},
   "outputs": [
    {
     "output_type": "execute_result",
     "data": {
      "text/plain": "'Python'"
     },
     "metadata": {},
     "execution_count": 22
    }
   ],
   "source": [
    "languages[1]"
   ]
  },
  {
   "cell_type": "code",
   "execution_count": 23,
   "metadata": {},
   "outputs": [
    {
     "output_type": "execute_result",
     "data": {
      "text/plain": "'Rust'"
     },
     "metadata": {},
     "execution_count": 23
    }
   ],
   "source": [
    "languages[-1] # Python idiom for the last item in a container"
   ]
  },
  {
   "cell_type": "code",
   "execution_count": 24,
   "metadata": {},
   "outputs": [
    {
     "output_type": "execute_result",
     "data": {
      "text/plain": "['Golang', 'Python', 'C', 'C++']"
     },
     "metadata": {},
     "execution_count": 24
    }
   ],
   "source": [
    "languages[-1] = 'C++'\n",
    "languages"
   ]
  },
  {
   "cell_type": "code",
   "execution_count": null,
   "metadata": {
    "slideshow": {
     "slide_type": "subslide"
    }
   },
   "outputs": [],
   "source": [
    "languages[:2]"
   ]
  },
  {
   "cell_type": "code",
   "execution_count": null,
   "metadata": {},
   "outputs": [],
   "source": [
    "languages[::2]"
   ]
  },
  {
   "cell_type": "code",
   "execution_count": null,
   "metadata": {},
   "outputs": [],
   "source": [
    "languages[::-1] # idiomatic for a reversed version of this list"
   ]
  },
  {
   "cell_type": "markdown",
   "metadata": {
    "slideshow": {
     "slide_type": "subslide"
    }
   },
   "source": [
    "# Iterating through a list"
   ]
  },
  {
   "cell_type": "code",
   "execution_count": 26,
   "metadata": {
    "tags": []
   },
   "outputs": [
    {
     "output_type": "stream",
     "name": "stdout",
     "text": "Golang, Python, C, C++,"
    }
   ],
   "source": [
    "# first try, non-Pythonic\n",
    "count = 0\n",
    "while count < len(languages):\n",
    "    print(languages[count], end=' ')\n",
    "    count += 1"
   ]
  },
  {
   "cell_type": "code",
   "execution_count": null,
   "metadata": {
    "slideshow": {
     "slide_type": "subslide"
    }
   },
   "outputs": [],
   "source": [
    "for lang in languages:\n",
    "    print(lang, end=' ')"
   ]
  },
  {
   "cell_type": "markdown",
   "metadata": {
    "slideshow": {
     "slide_type": "subslide"
    }
   },
   "source": [
    "# Adding items\n",
    "* __`append()`__ = add to end of a list\n",
    "* __`insert()`__ = add an item a particular offset\n",
    "* __`extend()`__ or __`+=`__ = add a list to a list"
   ]
  },
  {
   "cell_type": "code",
   "execution_count": 27,
   "metadata": {},
   "outputs": [
    {
     "output_type": "execute_result",
     "data": {
      "text/plain": "['Golang', 'Python', 'C', 'C++', 'Erlang']"
     },
     "metadata": {},
     "execution_count": 27
    }
   ],
   "source": [
    "languages.append('Erlang')\n",
    "languages"
   ]
  },
  {
   "cell_type": "code",
   "execution_count": 28,
   "metadata": {},
   "outputs": [
    {
     "output_type": "execute_result",
     "data": {
      "text/plain": "['Golang', 'Python', 'COBOL', 'C', 'C++', 'Erlang']"
     },
     "metadata": {},
     "execution_count": 28
    }
   ],
   "source": [
    "languages.insert(2, 'COBOL')\n",
    "languages"
   ]
  },
  {
   "cell_type": "code",
   "execution_count": 29,
   "metadata": {},
   "outputs": [
    {
     "output_type": "execute_result",
     "data": {
      "text/plain": "['Golang', 'Python', 'COBOL', 'C', 'C++', 'Erlang', 'Fortran', 'Ada']"
     },
     "metadata": {},
     "execution_count": 29
    }
   ],
   "source": [
    "others = ['Fortran', 'Ada']\n",
    "languages += others\n",
    "languages"
   ]
  },
  {
   "cell_type": "code",
   "execution_count": null,
   "metadata": {},
   "outputs": [],
   "source": [
    "languages.append(others)\n",
    "languages"
   ]
  },
  {
   "cell_type": "markdown",
   "metadata": {
    "slideshow": {
     "slide_type": "subslide"
    }
   },
   "source": [
    "# Removing items\n",
    "* __`del`__ = delete by position\n",
    "* __`remove(item)`__ = remove item by value\n",
    "* __`pop()`__ = remove last (or specified) item"
   ]
  },
  {
   "cell_type": "code",
   "execution_count": null,
   "metadata": {},
   "outputs": [],
   "source": [
    "languages"
   ]
  },
  {
   "cell_type": "code",
   "execution_count": null,
   "metadata": {},
   "outputs": [],
   "source": [
    "del languages[-1]\n",
    "languages"
   ]
  },
  {
   "cell_type": "code",
   "execution_count": null,
   "metadata": {},
   "outputs": [],
   "source": [
    "languages.remove('COBOL')\n",
    "languages"
   ]
  },
  {
   "cell_type": "code",
   "execution_count": null,
   "metadata": {},
   "outputs": [],
   "source": [
    "if 'Ruby' in languages:\n",
    "    languages.remove('Ruby')\n",
    "languages"
   ]
  },
  {
   "cell_type": "code",
   "execution_count": null,
   "metadata": {
    "slideshow": {
     "slide_type": "-"
    }
   },
   "outputs": [],
   "source": [
    "languages.pop()"
   ]
  },
  {
   "cell_type": "code",
   "execution_count": null,
   "metadata": {},
   "outputs": [],
   "source": [
    "languages.pop(0)"
   ]
  },
  {
   "cell_type": "markdown",
   "metadata": {
    "slideshow": {
     "slide_type": "subslide"
    }
   },
   "source": [
    "# Inspecting lists\n",
    "* __`in`__ = test for membership\n",
    "* __`len()`__ = length of list\n",
    "* __`index(item)`__ = return position of item\n",
    "* __`count(item)`__ = count occurrences of item "
   ]
  },
  {
   "cell_type": "code",
   "execution_count": null,
   "metadata": {},
   "outputs": [],
   "source": [
    "'Golang' in languages"
   ]
  },
  {
   "cell_type": "code",
   "execution_count": null,
   "metadata": {},
   "outputs": [],
   "source": [
    "len(languages)"
   ]
  },
  {
   "cell_type": "code",
   "execution_count": null,
   "metadata": {},
   "outputs": [],
   "source": [
    "languages.index('Erlang')"
   ]
  },
  {
   "cell_type": "code",
   "execution_count": null,
   "metadata": {
    "slideshow": {
     "slide_type": "subslide"
    }
   },
   "outputs": [],
   "source": [
    "import random # \"batteries included\"\n",
    "\n",
    "nums = [] # create empy list\n",
    "for _ in range(100): # execute 100 times (_ works in Golang)\n",
    "    nums.append(random.randint(1, 10))\n",
    "\n",
    "nums.count(7)"
   ]
  },
  {
   "cell_type": "markdown",
   "metadata": {
    "slideshow": {
     "slide_type": "subslide"
    }
   },
   "source": [
    "# Lists: __`split()`__ and __`join`__\n",
    "* split a string into a list\n",
    "* combine list (or iterable sequence) of strings into string"
   ]
  },
  {
   "cell_type": "code",
   "execution_count": null,
   "metadata": {},
   "outputs": [],
   "source": [
    "fruit_string1 = 'fig apple pear banana'\n",
    "fruits = fruit_string1.split()\n",
    "fruits"
   ]
  },
  {
   "cell_type": "code",
   "execution_count": null,
   "metadata": {},
   "outputs": [],
   "source": [
    "fruit_string2 = ' '.join(fruits) # join together elements of\n",
    "# any iterable\n",
    "fruit_string2"
   ]
  },
  {
   "cell_type": "code",
   "execution_count": null,
   "metadata": {},
   "outputs": [],
   "source": [
    "fruits2 = fruit_string2.split()\n",
    "fruits == fruits2"
   ]
  },
  {
   "cell_type": "code",
   "execution_count": null,
   "metadata": {},
   "outputs": [],
   "source": [
    "x, y, z = 1, 1.0, '1'\n",
    "type(x), type(y), type(z)"
   ]
  },
  {
   "cell_type": "markdown",
   "metadata": {
    "slideshow": {
     "slide_type": "subslide"
    }
   },
   "source": [
    "# Sorting\n",
    "* __`sorted()`__ = builtin function that returns a sorted copy of a list (or other iterable)\n",
    "* __`sort()`__ = sort a list in place (a list method)"
   ]
  },
  {
   "cell_type": "code",
   "execution_count": null,
   "metadata": {},
   "outputs": [],
   "source": [
    "languages"
   ]
  },
  {
   "cell_type": "code",
   "execution_count": null,
   "metadata": {},
   "outputs": [],
   "source": [
    "sorted(languages)"
   ]
  },
  {
   "cell_type": "code",
   "execution_count": null,
   "metadata": {},
   "outputs": [],
   "source": [
    "languages"
   ]
  },
  {
   "cell_type": "code",
   "execution_count": null,
   "metadata": {},
   "outputs": [],
   "source": [
    "languages.sort() # change or \"mutate\"\n",
    "languages"
   ]
  },
  {
   "cell_type": "code",
   "execution_count": null,
   "metadata": {},
   "outputs": [],
   "source": [
    "languages.sort(reverse=True)\n",
    "languages"
   ]
  },
  {
   "cell_type": "markdown",
   "metadata": {
    "slideshow": {
     "slide_type": "subslide"
    }
   },
   "source": [
    "# Let's write a little list management program"
   ]
  },
  {
   "cell_type": "code",
   "execution_count": 30,
   "metadata": {
    "tags": []
   },
   "outputs": [
    {
     "output_type": "stream",
     "name": "stdout",
     "text": "vowel words: ['banana', 'apple', 'mago', 'tomato'] \nconsonant words: ['persimmon', 'lemon']\n"
    }
   ],
   "source": [
    "# maintains two lists, words that end with a vowel and words\n",
    "# that don't\n",
    "vowel_words = []\n",
    "consonant_words = []\n",
    "\n",
    "while True:\n",
    "    response = input('Enter a word (or words): ')\n",
    "    if response.lower() == 'quit':\n",
    "        break\n",
    "    for word in response.split():\n",
    "        if word[-1] in 'AEIOUYaeiouy': # if last char is vowel\n",
    "            vowel_words.append(word)\n",
    "        else:\n",
    "            consonant_words.append(word)\n",
    "\n",
    "print('vowel words:', vowel_words, \n",
    "        '\\nconsonant words:', consonant_words)"
   ]
  },
  {
   "cell_type": "markdown",
   "metadata": {
    "slideshow": {
     "slide_type": "slide"
    }
   },
   "source": [
    "# \"Pythonic\""
   ]
  },
  {
   "cell_type": "code",
   "execution_count": 31,
   "metadata": {
    "slideshow": {
     "slide_type": "subslide"
    },
    "tags": []
   },
   "outputs": [
    {
     "output_type": "stream",
     "name": "stdout",
     "text": "index 0 is Golang\nindex 1 is Python\nindex 2 is COBOL\nindex 3 is C\nindex 4 is C++\nindex 5 is Erlang\nindex 6 is Fortran\nindex 7 is Ada\n"
    }
   ],
   "source": [
    "# this is NOT Pythonic...\n",
    "\n",
    "i = 0\n",
    "while i < len(languages):\n",
    "    print('index', i, 'is', languages[i])\n",
    "    i += 1"
   ]
  },
  {
   "cell_type": "code",
   "execution_count": 32,
   "metadata": {
    "slideshow": {
     "slide_type": "subslide"
    },
    "tags": []
   },
   "outputs": [
    {
     "output_type": "stream",
     "name": "stdout",
     "text": "index 0 is Golang\nindex 1 is Python\nindex 2 is COBOL\nindex 3 is C\nindex 4 is C++\nindex 5 is Erlang\nindex 6 is Fortran\nindex 7 is Ada\n"
    }
   ],
   "source": [
    "for index, lang in enumerate(languages):\n",
    "    print('index', index, 'is', lang)"
   ]
  },
  {
   "cell_type": "markdown",
   "metadata": {
    "slideshow": {
     "slide_type": "slide"
    }
   },
   "source": [
    "# List Comprehensions\n",
    "* quick way to build a list\n",
    "* \"more readable\"(6 months from now...)"
   ]
  },
  {
   "cell_type": "code",
   "execution_count": null,
   "metadata": {},
   "outputs": [],
   "source": [
    "# suppose we want a list of squares of numbers from 1..10\n",
    "squares = []\n",
    "for num in range(1, 11):\n",
    "    squares.append(num * num)\n",
    "    \n",
    "squares"
   ]
  },
  {
   "cell_type": "code",
   "execution_count": 35,
   "metadata": {
    "tags": []
   },
   "outputs": [
    {
     "output_type": "execute_result",
     "data": {
      "text/plain": "([1, 4, 9, 16, 25, 36, 49, 64, 81, 100], list)"
     },
     "metadata": {},
     "execution_count": 35
    }
   ],
   "source": [
    "squares2 = [num ** 2 for num in range(1, 11)]\n",
    "squares2, type(squares2)"
   ]
  },
  {
   "cell_type": "code",
   "execution_count": null,
   "metadata": {},
   "outputs": [],
   "source": [
    "squares == squares2"
   ]
  },
  {
   "cell_type": "markdown",
   "metadata": {
    "slideshow": {
     "slide_type": "subslide"
    }
   },
   "source": [
    "## Listcomps as Cartesian Products"
   ]
  },
  {
   "cell_type": "code",
   "execution_count": null,
   "metadata": {
    "slideshow": {
     "slide_type": "-"
    }
   },
   "outputs": [],
   "source": [
    "# a list of lists, each of which describes a shirt–color, size, and \"sleeveness\" \n",
    "colors = ['black', 'white']\n",
    "sizes = ['S', 'M', 'L']\n",
    "sleeves = ['short', 'long']\n",
    "\n",
    "shirts = [[color, size, sleeve] for color in colors\n",
    "                                for size in sizes\n",
    "                                for sleeve in sleeves]"
   ]
  },
  {
   "cell_type": "code",
   "execution_count": null,
   "metadata": {},
   "outputs": [],
   "source": [
    "shirts"
   ]
  },
  {
   "cell_type": "code",
   "execution_count": null,
   "metadata": {
    "slideshow": {
     "slide_type": "-"
    }
   },
   "outputs": [],
   "source": []
  },
  {
   "cell_type": "markdown",
   "metadata": {
    "slideshow": {
     "slide_type": "subslide"
    }
   },
   "source": [
    "## Listcomps as filters"
   ]
  },
  {
   "cell_type": "code",
   "execution_count": null,
   "metadata": {},
   "outputs": [],
   "source": [
    "# words that end with a certain letter\n",
    "fruits = 'apple cherry banana fig watermelon guava'.split()\n",
    "fruits_end_with_vowels = [fruit for fruit in fruits\n",
    "                              if fruit[-1] in 'aeiouy']\n",
    "fruits_end_with_vowels"
   ]
  },
  {
   "cell_type": "code",
   "execution_count": null,
   "metadata": {},
   "outputs": [],
   "source": [
    "# numbers"
   ]
  },
  {
   "cell_type": "markdown",
   "metadata": {},
   "source": [
    "# \"Programs are written for other people to read and only incidentally for computers to execute\" –Harold Abelson\n",
    "\n",
    "# Eagleson's Law of Programming: “Any code of your own that you haven't looked at for six or more months, might as well have been written by someone else.”\n",
    "\n",
    "# Have you ever wanted to go back in time and fight with a younger version of yourself? If so, be a software developer!"
   ]
  },
  {
   "cell_type": "markdown",
   "metadata": {
    "slideshow": {
     "slide_type": "slide"
    }
   },
   "source": [
    "# Dictionaries\n",
    "* delineated by __`{}`__\n",
    "* collection of key/value pairs\n",
    "* \"associative array\", HashMap (Java), Map (Golang) etc.\n",
    "* __`.keys()`__, __`.values()`__, __`.items()`__"
   ]
  },
  {
   "cell_type": "code",
   "execution_count": 38,
   "metadata": {},
   "outputs": [
    {
     "output_type": "execute_result",
     "data": {
      "text/plain": "{'tall': 12, 'grande': 16, 'venti': 20}"
     },
     "metadata": {},
     "execution_count": 38
    }
   ],
   "source": [
    "sbux = { 'tall': 12, 'grande': 16, 'venti': 20 }\n",
    "sbux"
   ]
  },
  {
   "cell_type": "code",
   "execution_count": 39,
   "metadata": {},
   "outputs": [
    {
     "output_type": "execute_result",
     "data": {
      "text/plain": "dict_items([('tall', 12), ('grande', 16), ('venti', 20)])"
     },
     "metadata": {},
     "execution_count": 39
    }
   ],
   "source": [
    "sbux.items()"
   ]
  },
  {
   "cell_type": "code",
   "execution_count": 40,
   "metadata": {},
   "outputs": [
    {
     "output_type": "execute_result",
     "data": {
      "text/plain": "{'tall': 12, 'grande': 16, 'venti': 20, 'trenta': 31}"
     },
     "metadata": {},
     "execution_count": 40
    }
   ],
   "source": [
    "sbux['trenta'] = 31\n",
    "sbux"
   ]
  },
  {
   "cell_type": "code",
   "execution_count": 41,
   "metadata": {},
   "outputs": [
    {
     "output_type": "execute_result",
     "data": {
      "text/plain": "['M', 'D', 'C', 'L', 'X', 'V', 'I']"
     },
     "metadata": {},
     "execution_count": 41
    }
   ],
   "source": [
    "roman_digits = list('MDCLXVI')\n",
    "roman_digits"
   ]
  },
  {
   "cell_type": "code",
   "execution_count": 42,
   "metadata": {},
   "outputs": [
    {
     "output_type": "execute_result",
     "data": {
      "text/plain": "[1000, 500, 100, 50, 10, 5, 1]"
     },
     "metadata": {},
     "execution_count": 42
    }
   ],
   "source": [
    "roman_values = '1000 500 100 50 10 5 1'\n",
    "roman_values = [int(word) for word in roman_values.split()]\n",
    "roman_values"
   ]
  },
  {
   "cell_type": "code",
   "execution_count": 44,
   "metadata": {
    "tags": []
   },
   "outputs": [
    {
     "output_type": "stream",
     "name": "stdout",
     "text": "M 1000\nD 500\nC 100\nL 50\nX 10\nV 5\nI 1\n"
    }
   ],
   "source": [
    "for digit, value in zip(roman_digits, roman_values):\n",
    "    print(digit, value)"
   ]
  },
  {
   "cell_type": "code",
   "execution_count": 43,
   "metadata": {},
   "outputs": [
    {
     "output_type": "execute_result",
     "data": {
      "text/plain": "{'M': 1000, 'D': 500, 'C': 100, 'L': 50, 'X': 10, 'V': 5, 'I': 1}"
     },
     "metadata": {},
     "execution_count": 43
    }
   ],
   "source": [
    "roman_to_arabic = { digit: value for digit, value\n",
    "                        in zip(roman_digits, roman_values) }\n",
    "roman_to_arabic"
   ]
  },
  {
   "cell_type": "markdown",
   "metadata": {
    "slideshow": {
     "slide_type": "subslide"
    }
   },
   "source": [
    "## Missing keys\n",
    "* error if key isn't in dict\n",
    "* __`.get()`__ method solves that"
   ]
  },
  {
   "cell_type": "code",
   "execution_count": 45,
   "metadata": {},
   "outputs": [
    {
     "output_type": "error",
     "ename": "KeyError",
     "evalue": "'Z'",
     "traceback": [
      "\u001b[0;31m---------------------------------------------------------------------------\u001b[0m",
      "\u001b[0;31mKeyError\u001b[0m                                  Traceback (most recent call last)",
      "\u001b[0;32m<ipython-input-45-b3cdcf08f43e>\u001b[0m in \u001b[0;36m<module>\u001b[0;34m\u001b[0m\n\u001b[0;32m----> 1\u001b[0;31m \u001b[0mroman_to_arabic\u001b[0m\u001b[0;34m[\u001b[0m\u001b[0;34m'Z'\u001b[0m\u001b[0;34m]\u001b[0m \u001b[0;31m# map to .get() under the hood\u001b[0m\u001b[0;34m\u001b[0m\u001b[0;34m\u001b[0m\u001b[0m\n\u001b[0m",
      "\u001b[0;31mKeyError\u001b[0m: 'Z'"
     ]
    }
   ],
   "source": [
    "roman_to_arabic['Z'] # map to .get() under the hood"
   ]
  },
  {
   "cell_type": "code",
   "execution_count": 46,
   "metadata": {
    "tags": []
   },
   "outputs": [
    {
     "output_type": "stream",
     "name": "stdout",
     "text": "None\n"
    }
   ],
   "source": [
    "print(roman_to_arabic.get('Z'))"
   ]
  },
  {
   "cell_type": "code",
   "execution_count": 47,
   "metadata": {
    "tags": []
   },
   "outputs": [
    {
     "output_type": "stream",
     "name": "stdout",
     "text": "0\n"
    },
    {
     "output_type": "execute_result",
     "data": {
      "text/plain": "{'M': 1000, 'D': 500, 'C': 100, 'L': 50, 'X': 10, 'V': 5, 'I': 1, 'Z': 0}"
     },
     "metadata": {},
     "execution_count": 47
    }
   ],
   "source": [
    "print(roman_to_arabic.setdefault('Z', 0))\n",
    "roman_to_arabic"
   ]
  },
  {
   "cell_type": "code",
   "execution_count": 49,
   "metadata": {},
   "outputs": [
    {
     "output_type": "execute_result",
     "data": {
      "text/plain": "'not there'"
     },
     "metadata": {},
     "execution_count": 49
    }
   ],
   "source": [
    "roman_to_arabic.get('Zoo', 'not there')"
   ]
  },
  {
   "cell_type": "markdown",
   "metadata": {
    "slideshow": {
     "slide_type": "slide"
    }
   },
   "source": [
    "# How about a Roman to Arabic Numeral conversion program?"
   ]
  },
  {
   "cell_type": "code",
   "execution_count": 50,
   "metadata": {},
   "outputs": [
    {
     "output_type": "execute_result",
     "data": {
      "text/plain": "{'M': 1000,\n 'D': 500,\n 'C': 100,\n 'L': 50,\n 'X': 10,\n 'V': 5,\n 'I': 1,\n 'Z': 0,\n ' ': 0}"
     },
     "metadata": {},
     "execution_count": 50
    }
   ],
   "source": [
    "roman_to_arabic[' '] = 0\n",
    "roman_to_arabic"
   ]
  },
  {
   "cell_type": "code",
   "execution_count": null,
   "metadata": {},
   "outputs": [],
   "source": []
  },
  {
   "cell_type": "code",
   "execution_count": 52,
   "metadata": {
    "tags": []
   },
   "outputs": [
    {
     "output_type": "stream",
     "name": "stdout",
     "text": "[1000, 100, 50, 10, 0]\n[1000, 100, 50, 10, 0]\n1160\n"
    }
   ],
   "source": [
    "arabic_values = []\n",
    "numeral = input('Enter Roman numeral: ')\n",
    "\n",
    "for digit in numeral + ' ': # pretend as though they added space\n",
    "    if digit in roman_to_arabic:\n",
    "        arabic_values.append(roman_to_arabic[digit])\n",
    "    else:\n",
    "        print('bad digit:', digit)\n",
    "        break\n",
    "else:\n",
    "    # we'll only be here for valid numerals\n",
    "    print(arabic_values)\n",
    "    for index in range(len(numeral)): # 0..len(numeral)-1\n",
    "        if arabic_values[index] < arabic_values[index+1]:\n",
    "            arabic_values[index] = -arabic_values[index]\n",
    "    print(arabic_values)\n",
    "    print(sum(arabic_values)) # this will do an extra + 0"
   ]
  },
  {
   "cell_type": "markdown",
   "metadata": {
    "slideshow": {
     "slide_type": "slide"
    }
   },
   "source": [
    "# How about counting the number of times each word appears in a file?"
   ]
  },
  {
   "cell_type": "code",
   "execution_count": null,
   "metadata": {
    "slideshow": {
     "slide_type": "-"
    }
   },
   "outputs": [],
   "source": [
    "from collections import defaultdict\n",
    "from string import punctuation"
   ]
  },
  {
   "cell_type": "markdown",
   "metadata": {
    "slideshow": {
     "slide_type": "slide"
    }
   },
   "source": [
    "# How about Chutes and Ladders?\n",
    "<center>\n",
    "    <img src=\"chutes.jpg\" height=\"400px\" width=\"400px\">\n",
    "</center>"
   ]
  },
  {
   "cell_type": "code",
   "execution_count": null,
   "metadata": {},
   "outputs": [],
   "source": [
    "chutes_and_ladders = {  1:38,  4:14,  9:31,  16:6,  21:42,\n",
    "                       28:84, 36:44, 47:26, 49:11,  51:67,\n",
    "                       56:53, 62:19, 64:60, 71:91, 80:100,\n",
    "                       87:24, 93:73, 95:75, 98:7 }"
   ]
  },
  {
   "cell_type": "markdown",
   "metadata": {
    "slideshow": {
     "slide_type": "slide"
    }
   },
   "source": [
    "# Other built-in types: Sets\n",
    "* easy way to remove duplicates"
   ]
  },
  {
   "cell_type": "code",
   "execution_count": null,
   "metadata": {},
   "outputs": [],
   "source": []
  },
  {
   "cell_type": "code",
   "execution_count": null,
   "metadata": {},
   "outputs": [],
   "source": []
  },
  {
   "cell_type": "markdown",
   "metadata": {
    "slideshow": {
     "slide_type": "slide"
    }
   },
   "source": [
    "# Other built-in types: Tuples\n",
    "* sort of like an immutable list\n",
    "* ...but not really used like that\n",
    "* any comma-separated sequence is a tuple"
   ]
  },
  {
   "cell_type": "code",
   "execution_count": null,
   "metadata": {},
   "outputs": [],
   "source": []
  },
  {
   "cell_type": "code",
   "execution_count": null,
   "metadata": {},
   "outputs": [],
   "source": []
  },
  {
   "cell_type": "markdown",
   "metadata": {
    "slideshow": {
     "slide_type": "slide"
    }
   },
   "source": [
    "# Functions\n",
    "* keyword args\n",
    "* __`*args`__, __`**kwargs`__"
   ]
  },
  {
   "cell_type": "code",
   "execution_count": null,
   "metadata": {},
   "outputs": [],
   "source": []
  },
  {
   "cell_type": "code",
   "execution_count": null,
   "metadata": {},
   "outputs": [],
   "source": []
  },
  {
   "cell_type": "code",
   "execution_count": null,
   "metadata": {},
   "outputs": [],
   "source": []
  },
  {
   "cell_type": "code",
   "execution_count": null,
   "metadata": {},
   "outputs": [],
   "source": []
  },
  {
   "cell_type": "markdown",
   "metadata": {
    "slideshow": {
     "slide_type": "slide"
    }
   },
   "source": [
    "# How about a pluralization function?\n",
    "* rules:\n",
    "  * if the word ends in 's', 'x', or 'z', the plural adds 'es', e.g., ax => axes, loss => losses\n",
    "  * if the word ends in an 'h', which is not preceded by a vowel or 'd', 'g', 'k', 'p', 'r', or 't', the plural adds 'es', ",
    "e.g., moth => moths, but match => matches\n",
    "  * if the word ends in a 'y' which is not preceded by a vowel, then the plural strips the 'y' and adds 'ies', ",
    "e.g., baby => babies, but boy => boys\n",
    "  * otherwise just add 's'"
   ]
  },
  {
   "cell_type": "markdown",
   "metadata": {
    "slideshow": {
     "slide_type": "slide"
    }
   },
   "source": [
    "# Exceptions\n",
    "* __`try`__ / __`except`__\n",
    "* __`else`__ clause\n",
    "* __`finally`__ clause\n",
    "* LBYL vs. EAFP"
   ]
  },
  {
   "cell_type": "code",
   "execution_count": null,
   "metadata": {},
   "outputs": [],
   "source": []
  }
 ],
 "metadata": {
  "celltoolbar": "Slideshow",
  "kernelspec": {
   "display_name": "Python 3",
   "language": "python",
   "name": "python3"
  },
  "language_info": {
   "codemirror_mode": {
    "name": "ipython",
    "version": 3
   },
   "file_extension": ".py",
   "mimetype": "text/x-python",
   "name": "python",
   "nbconvert_exporter": "python",
   "pygments_lexer": "ipython3",
   "version": "3.8.4-final"
  }
 },
 "nbformat": 4,
 "nbformat_minor": 1
}